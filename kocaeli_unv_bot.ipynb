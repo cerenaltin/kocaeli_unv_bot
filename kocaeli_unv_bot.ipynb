{
 "cells": [
  {
   "cell_type": "markdown",
   "id": "e6513ace",
   "metadata": {},
   "source": [
    "## Kütüphanelerin Eklenmesi\n",
    "Bu kod, Telegram botu için gerekli olan kütüphaneleri ve diğer bağımlılıkları içe aktarır. İlgili kütüphaneler arasında telegram.ext, telegram, requests, BeautifulSoup bulunmaktadır.\n",
    "\n",
    "- **telegram.ext** kütüphanesi, Telegram botunun olayları (events) ve işleyicilerini (handlers) yönetmek için kullanılır. Updater, CommandHandler, ConversationHandler, MessageHandler gibi sınıflar bu kütüphane tarafından sağlanır.\n",
    "\n",
    "- **telegram** kütüphanesi, Telegram Bot API ile iletişim kurmak için kullanılır. Botun mesaj gönderme, fotoğraf gönderme, kullanıcıları yönetme gibi işlevleri içerir.\n",
    "\n",
    "- **requests** kütüphanesi, HTTP istekleri göndermek ve yanıtları almak için kullanılır. Örneğin, web sayfalarından veri çekmek için kullanılabilir.\n",
    "\n",
    "- **bs4 (BeautifulSoup)** kütüphanesi, HTML veya XML belgelerinde gezinmek, veri çekmek ve manipüle etmek için kullanılır. Web scraping gibi işlemlerde sıkça kullanılır.\n",
    "\n",
    "Bu kod, Telegram botuyla etkileşim kurmak, mesajları işlemek, HTTP istekleri göndermek ve web sayfalarından veri çekmek gibi işlevleri gerçekleştirmek için bu kütüphaneleri içe aktarır.\n",
    "\n",
    "\n"
   ]
  },
  {
   "cell_type": "code",
   "execution_count": 1,
   "id": "f5876b07",
   "metadata": {},
   "outputs": [],
   "source": [
    "import telegram.ext\n",
    "import telegram\n",
    "from telegram.ext import Updater, CommandHandler, ConversationHandler, MessageHandler, filters \n",
    "import requests\n",
    "from telegram import Update\n",
    "import requests\n",
    "from bs4 import BeautifulSoup\n"
   ]
  },
  {
   "cell_type": "markdown",
   "id": "40843641",
   "metadata": {},
   "source": [
    "## Telegram Bot Token'ının Eklenmesi\n",
    "Bu kod, bir token değerini \"token.txt\" adlı bir dosyaya yazmak ve daha sonra bu token değerini okuyarak \"TOKEN\" adlı bir değişkene atamak için kullanılır. Token genellikle, API erişimi gibi güvenlik nedenleriyle kullanılan kimlik doğrulama bilgisini temsil eder."
   ]
  },
  {
   "cell_type": "code",
   "execution_count": 2,
   "id": "8b90b78c",
   "metadata": {},
   "outputs": [],
   "source": [
    "f = open(\"token.txt\",\"w\") \n",
    "f.write(\"token\")\n",
    "f.close()\n"
   ]
  },
  {
   "cell_type": "code",
   "execution_count": 3,
   "id": "e0e1c99f",
   "metadata": {},
   "outputs": [],
   "source": [
    "with open (\"token.txt\",\"r\") as f:\n",
    "    TOKEN = f.read()"
   ]
  },
  {
   "cell_type": "markdown",
   "id": "5de8b4af",
   "metadata": {},
   "source": [
    "## Başlangıç Menüsü\n",
    "Bu kod, bir Telegram botu için bir \"start\" fonksiyonunu tanımlar. Bu fonksiyon, botu kullanmaya başlayan kullanıcılara hoş geldiniz mesajı gönderir. Mesajda, botun Kocaeli Üniversitesi öğrencilerine yönelik olduğu ve çeşitli konularda yardımcı olabileceği belirtilir. Ayrıca kullanıcılara /yardim komutu ile botun komutlarını öğrenmeleri önerilir."
   ]
  },
  {
   "cell_type": "code",
   "execution_count": 4,
   "id": "36575b4e",
   "metadata": {},
   "outputs": [],
   "source": [
    "def start(update,source):\n",
    "    message = \"Merhaba, Kocaeli Üniversitesi Öğrencileri! \\n\\nBen sizin için tasarlanmış bir akıllı botum. Size çeşitli konularda yardımcı olmaya hazırım. Sizlere daha iyi hizmet verebilmek için elimden gelenin en iyisini yapacağım. İhtiyacınız olan herhangi bir bilgi veya yardım için sadece bana sorun! \\n\\nİyi günler dilerim! \\n\\nBaşlamak için lütfen /yardim yazarak komutlarımı öğrenin. \"\n",
    "    source.bot.send_message(chat_id=update.effective_chat.id, text=message)\n",
    "    \n",
    "    \n",
    "def yardim(update,source):\n",
    "    message = \"Merhaba! Bu Telegram botu, Kocaeli Üniversitesi öğrencilerine çeşitli bilgiler sağlamak amacıyla tasarlanmıştır. İşte botumuzun sunduğu özellikler: \\n\\nDuyurular : /duyuru \\nSık Sorulan Sorular : /SSS \\nYemekhanede Bugün Ne Var? : /yemekhane_bilgi \\nDers Notu Hesaplama : /ders_notu \\nKOÜ Öğrenci Klüpleri: /ogrenci_klupleri \\nUmuttepe Hava Durumu : /umuttepe_hava_durumu  \\nKocaeli Şehrindeki Yurtların Bilgileri İçin : /yurt_bilgileri \\nOtobüs Hatları : /otobus_bilgi  \\nKocaeli'de Ne Yapılır : /kocaelide_ne_yapilir \"\n",
    "    source.bot.send_message(chat_id=update.effective_chat.id, text=message)"
   ]
  },
  {
   "cell_type": "markdown",
   "id": "b81c70cb",
   "metadata": {},
   "source": [
    "## Yurt Bilgileri\n",
    "Bu kod, kullanıcılara Kocaeli ilindeki yurt bilgilerine erişim sağlayan bir mesaj gönderir. Mesajda bir URL bağlantısı yer alır ve kullanıcılar bu bağlantıya tıklayarak yurt bilgilerine ulaşabilir. Örneğin, bir kullanıcı \"/yurt_bilgileri\" komutunu gönderdiğinde, bot bu kullanıcıya yurt bilgilerine erişim sağlayan bir bağlantı içeren bir mesaj gönderir. Bu sayede kullanıcılar kolayca Kocaeli ilindeki yurt bilgilerine erişebilirler."
   ]
  },
  {
   "cell_type": "code",
   "execution_count": 5,
   "id": "ac8bccf3",
   "metadata": {},
   "outputs": [],
   "source": [
    "\n",
    "def yurt_bilgileri(update, source):\n",
    "    message = \"Merhaba! Kocaeli Üniversitesi öğrencileri için KYK yurtları ve özel yurtlar hakkında bilgi sağlamak için linke tıklayabilirsiniz: [Kocaeli İlindeki Yurt Bilgileri](https://docs.google.com/document/d/1WCOMuJ86EqXQiOFQfyhkf0FKGYr5qVVA/edit?usp=share_link&ouid=104031049268247602980&rtpof=true&sd=true)\"\n",
    "    source.bot.send_message(chat_id=update.effective_chat.id, text=message, parse_mode=telegram.ParseMode.MARKDOWN)"
   ]
  },
  {
   "cell_type": "markdown",
   "id": "13a9bde9",
   "metadata": {},
   "source": [
    "##  Bugün Yemekhane'de Ne Var?\n",
    "Bu kod, kullanıcılara aylık yemekhane listesini indirmek için bir mesaj gönderir. Mesajda \"/yemekhane_bilgi\" komutu verilir ve kullanıcı bu komutu kullanarak yemekhane listesini indirebilir. Örneğin, bir kullanıcı \"/yemekhane_bilgi\" komutunu gönderdiğinde, bot bu kullanıcıya yemekhane listesinin indirilebileceği bir mesaj gönderir. Bu sayede kullanıcılar yemekhane listesine erişebilir ve indirebilir."
   ]
  },
  {
   "cell_type": "code",
   "execution_count": 6,
   "id": "354346e6",
   "metadata": {},
   "outputs": [],
   "source": [
    "def yemekhane_bilgi(update, source):\n",
    "    message= \"Merhaba! Kocaeli Üniversitesi yemekhane listesine buradan ulaşabilirsiniz: [Yemekhane Listesini İndirmek İçin Tıklayınız](http://sksdb.kocaeli.edu.tr/yemek-listesi.php)\"\n",
    "    source.bot.send_message(chat_id=update.effective_chat.id, text=message, parse_mode=telegram.ParseMode.MARKDOWN)"
   ]
  },
  {
   "cell_type": "markdown",
   "id": "739e99dc",
   "metadata": {},
   "source": [
    "## Otobüs Bilgileri\n",
    "Bu kod, kullanıcılara Umuttepe Kampüsü'ne giden otobüs hatlarının bilgilerini sunar."
   ]
  },
  {
   "cell_type": "code",
   "execution_count": 7,
   "id": "4b8101ff",
   "metadata": {},
   "outputs": [],
   "source": [
    "\n",
    "def otobus_bilgi(update, context):\n",
    "    message = \"Umuttepe Kampüsüne Giden Otobüs Hatları: /umuttepe_giden\\nUmuttepe-Otogar Otobüs Hatları: /umuttepe_otogar\\nUmuttepe-Bayındırlık Otobüs Hatları: /umuttepe_bayindirlik\\nUmuttepe-Dünya Bankası Otobüs Hatları: /umuttepe_dunban\\nUmuttepe-Kentkonut Otobüs Hatları: /umuttepe_kentkonut\\nMerkeze En Hızlı Giden Hatlar: /merkeze_enhizli\\nOtogara Giden En Hızlı Hat: /otogar_enhizli\\nOtobüs Saat ve Durak Bilgileri İçin Tıklayınız: /otobus_seferbilgi\"\n",
    "    context.bot.send_message(chat_id=update.effective_chat.id, text=message)\n",
    "\n",
    "def umuttepe_giden(update,source):\n",
    "    message = \"10 ( OTOGAR–BAYINDIRLIK-UMUTTEPE) \\n13 ( ALİKAHYA-YUVAM AKARCA–YAHYA KAPTAN–GÜNDOĞDU–UMUTTEPE) \\n20 ( BATI TERMİNALİ–GÜLTEPE–UMUTTEPE) \\n*23* ( OTOGAR–BAYINDIRLIK–YAHYA KAPTAN-UMUTTEPE) \\n24 ( OTOGAR–BAYINDIRLIK–YAHYA KAPTAN-41AVM-UMUTTEPE) \\n33 ( BATI TERMİNALİ-SEKA PARK-DOĞU KIŞLA-ÜÇ TEPELER-UMUTTEPE) \\n53 ( BATI TERMİNALİ-TOPÇULAR-UMUTTEPE ) \\n70 (AKPINAR-KURUÇEŞME-D.KIŞLA-ŞEHİR HAST-BAYINDIRLK-UMUTTEPE )\\n73 (ARIZLI YURT-UMUTTEPE )\\n85 (AKPINAR TOKİ-KURUÇEŞME-BAÇ-DOGU KIŞLA-D.BANKASI-UMUTTEPE)\\n105(ÖĞRETMENLER-HALKEVİ-ŞEHİR HAST-GÜNDOĞDU-UMUTTEPE)\\n115(KÖRFEZKENT-SOPALI-DERİNCE-İZMİT-ÜÇYOL-UMUTTEPE)\\n115Ç(KÖRFEZKENT-SOPALI-ÇENEDAĞ-İZMİT-ÜÇYOL-UMUTTEPE)\\n133 (YENİKENT-SOPALI HAST.-GÜLTEPE-ÜÇTEPELER-UMUTTEPE)\\n143 (60 EVLER-DERİNCE-KAŞIK-GÜLTEPE-ÜÇTEPELER-UMUTTEPE)\\n145 (60 EVLER-DERİNCE-HALKEVİ-ŞEHİR HASTANESİ-UMUTTEPE)\\n210 (KARTEPE-ALİKAHYA-ÇOCUK HAST.-YEŞİLOVA-BAYINDIRLIK-UMUTTEPE)\\n300 (DİLOVASI-KÖRFEZ-DERİNCE-İZMİT-UMUTTEPE)\\n305 (BİLİŞİM VADİSİ-DİLİSKELESİ-KÖRFEZ-İZMİT-UMUTTEPE)\\n405 (ÖZGÜNKENT-İZMİT-UMUTTEPE)\\n435 (KBB GEBZE GARAJ-DİLOVASI-KÖRFEZ-İZMİT-UMUTTEPE)\\n530 (DARICA-MARMARAY İSTASYON-İZMİT-UMUTTEPE)\\n600 (DOĞANTEPE-KULLAR-İZMİT-UMUTTEPE)\\n750 (KARAMÜRSEL-GÖLCÜK-İZMİT-UMUTTEPE)\\n755 (KARAMÜRSEL-İZMİT OTOGAR-UMUTTEPE)\"\n",
    "    source.bot.send_message(chat_id=update.effective_chat.id, text=message, parse_mode=telegram.ParseMode.MARKDOWN)\n",
    "def otogar_enhizli(update,source):\n",
    "    message = \"10\"\n",
    "    source.bot.send_message(chat_id=update.effective_chat.id, text=message, parse_mode=telegram.ParseMode.MARKDOWN)\n",
    "def umuttepe_kentkonut(update,source):\n",
    "    message= \"33 ( BATI TERMİNALİ-SEKA PARK-DOĞU KIŞLA-ÜÇ TEPELER-UMUTTEPE)\\n115 (KÖRFEZKENT-SOPALI-DERİNCE-İZMİT-ÜÇYOL-UMUTTEPE)\\n115Ç(KÖRFEZKENT-SOPALI-ÇENEDAĞ-İZMİT-ÜÇYOL-UMUTTEPE)\\n145 (60 EVLER-DERİNCE-HALKEVİ-ŞEHİR HASTANESİ-UMUTTEPE)\"\n",
    "    source.bot.send_message(chat_id=update.effective_chat.id, text=message, parse_mode=telegram.ParseMode.MARKDOWN)\n",
    "def umuttepe_otogar(update,source):\n",
    "    message= \"10 ( OTOGAR–BAYINDIRLIK-UMUTTEPE)\\n23 ( OTOGAR–BAYINDIRLIK–YAHYA KAPTAN-UMUTTEPE)\\n24 ( OTOGAR–BAYINDIRLIK–YAHYA KAPTAN-41AVM-UMUTTEPE)\"\n",
    "    source.bot.send_message(chat_id=update.effective_chat.id, text=message)\n",
    "def umuttepe_bayindirlik(update,source):\n",
    "    message= \"10 ( OTOGAR–BAYINDIRLIK-UMUTTEPE)\\n23 ( OTOGAR–BAYINDIRLIK–YAHYA KAPTAN-UMUTTEPE)\\n24 ( OTOGAR–BAYINDIRLIK–YAHYA KAPTAN-41AVM-UMUTTEPE)\\n70 (AKPINAR-KURUÇEŞME-D.KIŞLA-ŞEHİR HAST-BAYINDIRLK-UMUTTEPE )\\n210(KARTEPE-ALİKAHYA-ÇOCUK HAST.-YEŞİLOVA-BAYINDIRLIK-UMUTTEPE)\"\n",
    "    source.bot.send_message(chat_id=update.effective_chat.id, text=message)\n",
    "def umuttepe_dunban(update,source):\n",
    "    message= \"13 ( ALİKAHYA-YUVAM AKARCA–YAHYA KAPTAN–GÜNDOĞDU–UMUTTEPE)\\n85  (AKPINAR TOKİ-KURUÇEŞME-BAÇ-DOGU KIŞLA-D.BANKASI-UMUTTEPE)\\n105 (ÖĞRETMENLER-HALKEVİ-ŞEHİR HAST-GÜNDOĞDU-UMUTTEPE)\\n145 (60 EVLER-DERİNCE-HALKEVİ-ŞEHİR HASTANESİ-UMUTTEPE)\"\n",
    "    source.bot.send_message(chat_id=update.effective_chat.id, text=message)\n",
    "\n",
    "def merkeze_enhizli(update,source):\n",
    "    message= \"33 – 53 -115 – 155Ç \"\n",
    "    source.bot.send_message(chat_id=update.effective_chat.id, text=message)\n",
    "def otobus_seferbilgi(update, source):\n",
    "    message= \"Otobüs Kalkış Saatleri ve Durak Bilgileri İçin Tıklayınız: https://www.kocaeli.bel.tr/tr/main/hatlar \"\n",
    "    source.bot.send_message(chat_id=update.effective_chat.id, text=message)"
   ]
  },
  {
   "cell_type": "markdown",
   "id": "0a053333",
   "metadata": {},
   "source": [
    "## SSS\n",
    "Bu kod, Telegram botu üzerinden çağrıldığında öğrencilere sıkça sorulan soruların cevaplarını içeren bir mesajı göndermek için kullanılır. message değişkeni içinde öğrencilerin sıkça sorduğu soruların kısa açıklamaları ve bu sorulara yanıt veren komutların listesi yer alır. Bu mesaj, source.bot.send_message() fonksiyonu aracılığıyla botun yanıt verdiği sohbet penceresine gönderilir."
   ]
  },
  {
   "cell_type": "code",
   "execution_count": 8,
   "id": "a622d3b0",
   "metadata": {},
   "outputs": [],
   "source": [
    "\n",
    "def SSS(update,source):\n",
    "    message = \" Merhaba! Sizin için hazırladığımız bu kaynak, belki de merak ettiğiniz bir sorunun cevabını içeriyor olabilir. Sorularınızı yanıtlamak ve size yardımcı olmak için buradayız. Hemen aşağıdaki komutlara tıklayarak sık sorulan soruların cevaplarına ulaşabilirsiniz. \\n\\nYeni kayıt oldum numaramı nasıl öğrenebilirim? : /ogrenci_numara \\nÜniversitenize nasıl kayıt yaptırabilirim? : /yeni_kayit \\nDers Kayıt İşlemleri : /ders_kayit \\nMuafiyet İşlemleri : /muafiyet \\nHarç İadesi : /harc_iade \\nMezuniyet Koşulları: /mezuniyet \\nTek Ders Sınavı : /tekders \\nAskerlik Tecil İşlemleri : /tecil \\nKayıt Sildirme : /kayit_sildirme \\nOnur/Yüksek Onur Öğrencisi Olma Koşulları : /onur_yuksekonur \\nKayıt Dondurma : /kayit_dondurma \\nÖğrenci Bilgi Sistemini (ÖBS) nasıl kullanabilirim? : /obs \\nDiplomamın hazırlanıp hazırlanmadığını nasıl öğrenebilirim? : /diploma \\nGeçici Mezuniyet Belgesi nasıl alabilirim? : /gecici_mezuniyet_belgesi \\nDiplomamı başkası alabilir mi? : /diploma2 \\n%10’a giren öğrencilere öğrenim ücreti/harç miktarı ile ilgili nasıl bir işlem yapılır? : /yuzdeon_harc \\nDanışmanım kimdir? Nasıl öğrenebilirim? Görevi nedir? : /danismanim_kim \\nSınav sonuçlarına itiraz nasıl olur? : /sinav_itiraz \\nYatay geçişler nasıl olmaktadır? : /yatay_gecis \\nÇift anadal programı nedir ve nasıl başvuru yapılır? : /cift_anadal \\nStajlarla ilgili bilgileri nereden alabilirim? : /staj \\nHangi hallerde disiplin suçu alınır? : /disiplin \\nNotlar, transkript hataları ve diğer sorunlarım için nereye başvurmalıyım? : /hatali_not \\nÖğrenci Belgesi, Transkript, Askerlik Durum Belgesi (Ek-G) nereden alınabilir? : /belge \\nÖğrenim kredisi ve burslarla ilgili bilgileri nereden alabilirim? : /burs \"\n",
    "    source.bot.send_message(chat_id=update.effective_chat.id, text=message)\n",
    "def ogrenci_numara(update,source):\n",
    "    message = \"Yeni öğrenciler için öğrenci numarası sorgulama sistemi :  [Öğrenci Numara Sorgulama](https://ogr.kocaeli.edu.tr/koubs/ekayit/Ogrenci/OgrenciNoSorgulama.cfm)\"\n",
    "    source.bot.send_message(chat_id=update.effective_chat.id, text=message, parse_mode=telegram.ParseMode.MARKDOWN)\n",
    "def yeni_kayit(update,source):\n",
    "    message = \"Üniversitemiz bölüm ve programlarına ÖSYM tarafından yerleştirilenlerin kayıt tarihleri ve yerleri ÖSYM tarafından öğrencilere duyurulmaktadır. Kayıt için detaylı bilgiye http://ogr.kocaeli.edu.tr/koubs/ekayit/index.cfm web sitesinden ulaşabilirsiniz. \\n\\nErasmus Öğrenci Değişim Programı ile gelecek öğrenciler; kayıt tarihleri, kayıt yerleri ve kayıt için istenen bilgileri http://int.kocaeli.edu.tr/ web sitesinden öğrenebilirsiniz. \\n\\nMevlana Öğrenci Değişim Programı ile gelecek öğrenciler kayıt tarihleri, kayıt yerleri ve kayıt için istenen bilgileri http://mevlana.kocaeli.edu.tr// web sitesinden öğrenebilirler. \\n\\nFarabi Öğrenci Değişim Programı ile gelecek öğrenciler kayıt tarihleri, kayıt yerleri ve kayıt için istenen bilgileri http://farabi.kocaeli.edu.tr/ web sitesinden öğrenebilirler.\"\n",
    "    source.bot.send_message(chat_id=update.effective_chat.id, text=message, parse_mode=telegram.ParseMode.MARKDOWN)\n",
    "def ders_kayit(update,source):\n",
    "    message = \"Birinci sınıf öğrencileri kaydolduğu birimin eğitim-öğretim planının ilgili yarıyıllardaki derslerinin tamamını alır.*(Ders seçimi yapılmaz)* \\n\\nDiğer öğrenciler (ara sınıf öğrencileri) her yarıyılın başlamasından önce, akademik takvimde belirtilen sürelerde alacağı dersleri Öğrenci Bilgi Sistemi’nden seçer ve onaylar. \\n\\n*Öğrenci yarıyıl başında öncelikle başarısız olduğu dersleri almak zorundadır.* Seçmeli dersin başarısızlığı nedeniyle yeniden alma durumuna düşen öğrenci, bu dersin yerine başka bir seçmeli dersi alabilir.  Öğrenci, almak zorunda olduğu dersler hariç olmak üzere, akademik takvimde belirtilen süreler içerisinde (ekle-sil haftası) danışmanının onayını almak şartıyla, kaydolduğu dersi sildirebilir veya yeni ders ekletebilir. \\n\\nDers kaydı, akademik takvimde belirtilen kayıt süresi içinde yapılır. Bu süre içinde ders kaydını yaptıramayan öğrenci, durumunu bağlı bulunduğu akademik birime yazılı dilekçe ile bildirir. Öğrencinin başvurusu ilgili yönetim kurulunda karara bağlanır. Ders kaydı yaptırılmayan dönem öğretim süresine dahildir. \"\n",
    "    source.bot.send_message(chat_id=update.effective_chat.id, text=message, parse_mode=telegram.ParseMode.MARKDOWN)                          \n",
    "def muafiyet(update,source):\n",
    "    message = \"Öğrenci, bir yükseköğretim kurumunda başarmış olduğu ders için muafiyet talebinde bulunabilir. Muafiyet talebini içeren dilekçe, muafiyete esas olacak belgelerle birlikte kayıt işlemi süresi içerisinde ilgili akademik birime teslim edilir. Muafiyet talebi; dersin içeriği, kredisi ve başarı notu dikkate alınarak ilgili yönetim kurulu tarafından karara bağlanır. *Yönetim Kurulu Kararı olmadan Ders ekle-sil haftasından sonra hiçbir şekilde öğrencinin üzerine ders yüklenmesi veya üzerinden ders silinmesi işlemi yapılmaz.* \\n\\nÖğrenci, süresi içinde usulüne uygun olarak almadığı veya kayıt yapmadığı derslere devam edemez ve bu derslerin sınavına giremez. \\n\\nErasmus, Farabi ve Mevlana Öğrenci Değişim Programı öğrencileri daha önce anlaşma çerçevesinde belirlenen dersleri alacaklardır. \\n\\n>Ayrıntılı bilgi için; \\nErasmus Öğrenci Değişim Programı öğrencileri *Erasmus Koordinatörü* \\nMevlana Öğrenci Değişim Programı öğrencileri *Mevlana Koordinatörü*, \\nFarabi Öğrenci Değişim Programı öğrencileri *Farabi Koordinatörü* ile irtibata geçmelidir.\"\n",
    "    source.bot.send_message(chat_id=update.effective_chat.id, text=message, parse_mode=telegram.ParseMode.MARKDOWN)\n",
    "def harc_iade(update,source):\n",
    "    message = \"Herhangi bir nedenle harç muafiyeti veya indiriminiz varsa, ya da yatırmamanız gerektiği halde harç ücreti yatırdıysanız, ÖBS sayfanızda bulunan harç iade formunu eksiksiz bir şekilde doldurarak harç iade talebinde bulunabilirsiniz.\"\n",
    "    source.bot.send_message(chat_id=update.effective_chat.id, text=message, parse_mode=telegram.ParseMode.MARKDOWN)\n",
    "def mezuniyet(update,source):\n",
    "    message = \"*Önlisans için:* \\nDers planında belirtilen zorunlu dersler ile asgari sayıda alınması gereken seçmeli dersleri ve varsa zorunlu stajlarını başarıyla tamamlamış, en az *120 AKTS* başarmış ve en az *2.00/4* ortalamaya sahip olan öğrenciler mezun olabilirler. \\n\\n*Lisans için:* \\nDers planında belirtilen zorunlu dersler ile asgari sayıda alınması gereken seçmeli dersleri ve varsa zorunlu stajlarını başarıyla tamamlamış, en az *240 AKTS* tamamlamış ve en az *2.00/4* ortalamaya sahip olan öğrenciler mezun olabilirler. \\n\\n*Tezli Yüksek Lisans için:* \\nDers planında belirtilen ders, seminer ve tez çalışması ile toplamda en az *120 AKTS* tamamlamış, “Kocaeli Üniversitesi Lisansüstü Eğitim Öğretim Yönetmeliği”nde belirtilen tüm mezuniyet şartlarını yerine getiren öğrenciler mezun olabilirler. \\n\\n*Tezsiz Yüksek Lisans için:* \\nDers planlarında belirtilen ders ve dönem projesi çalışması ile toplamda *90* AKTS tamamlamış, “Kocaeli Üniversitesi Lisansüstü Eğitim Öğretim Yönetmeliği”nde belirtilen tüm mezuniyet şartlarını yerine getiren öğrenciler mezun olabilirler. \\n\\n*Doktora için:* \\nezli yüksek lisans derecesiyle kabul edilen öğrenciler için, Ders planlarında belirtilen ders, seminer, tez önerisi ve tez çalışması ile toplamda *240 AKTS* tamamlamış, “Kocaeli Üniversitesi Lisansüstü Eğitim Öğretim Yönetmeliği”nde belirtilen tüm mezuniyet şartlarını yerine getiren öğrenciler mezun olabilirler. \\n\\nLisans derecesi ile kabul edilmiş öğrenciler için, Ders planlarında belirtilen ders, seminer, tez önerisi ve tez çalışması ile toplamda *300 AKTS* tamamlamış, “Kocaeli Üniversitesi Lisansüstü Eğitim Öğretim Yönetmeliği”nde belirtilen tüm mezuniyet şartlarını yerine getiren öğrenciler mezun olabilirler\"\n",
    "    source.bot.send_message(chat_id=update.effective_chat.id, text=message, parse_mode=telegram.ParseMode.MARKDOWN)\n",
    "def tekders(update,source):\n",
    "    message = \"Kayıtlı bulunduğu programın ders planında bulunan tüm dersleri başaran fakat *mezuniyetine yalnızca 1 dersi kalan öğrenciler*, derse devam şartını daha önceden sağlamış olmaları kaydıyla bu sınava girebilmek için bağlı bulunduğu akademik birime dilekçe ile müracaat edebilirler.\"\n",
    "    source.bot.send_message(chat_id=update.effective_chat.id, text=message, parse_mode=telegram.ParseMode.MARKDOWN)\n",
    "def tecil(update,source):\n",
    "    message = \"Akademik birimlerde öğrenim gören öğrencilerin askerlik tecil işlemleri, *ÖBS* üzerinden aktif/pasif öğrencilerin e-devlete bildirilmesiyle gerçekleşmektedir. İlgili Askeralma Başkanlığı veya öğrencinin talebi üzerine Askerlik Durum Belgesi düzenlenebilmekte ve ilgili Öğrenci İşleri Bürosu tarafından teslim edilebilmektedir. Önlisans ve lisans öğrencileri için 29, lisansüstü öğrencileri için 35 yaşından büyük yükümlülerin tecil imkanı bulunmadığından bahse konu yaş sınırını aşan yükümlülerin öğrenimlerine askerlik hizmetini tamamladıktan sonra devam etmeleri gerekmektedir \"\n",
    "    source.bot.send_message(chat_id=update.effective_chat.id, text=message, parse_mode=telegram.ParseMode.MARKDOWN)                          \n",
    "def kayit_sildirme(update,source):\n",
    "    message = \"Üniversiteden kesin olarak ayrılma işlemlerini ifade eder. Üniversiteye kayıtlı öğrencilerden kaydını sildirmek isteyenler, bir dilekçe ile öğrenim gördüğü akademik birimin öğrenci işlerine başvururlar. Bağlı bulunduğu akademik birimin yönetim kurulu kararı ile üniversiteden kaydını sildirmiş olurlar. Kaydını sildiren öğrencinin Üniversite ile ilişiği kesilir. Kayıt yaptığı yıla göre, öğrenci lise diplomasını teslim etmiş ise diploması öğrenciye teslim edilir.\"\n",
    "    source.bot.send_message(chat_id=update.effective_chat.id, text=message, parse_mode=telegram.ParseMode.MARKDOWN)\n",
    "def onur_yuksekonur(update,source):\n",
    "    message = \"Her eğitim öğretim yılı sonunda, öğrencinin tabi olduğu ders planının ilgili yarıyıl sonuna kadar olan toplam AKTS değerini tamamlamış ve başarmış olması şartıyla genel not ortalaması *3.00 – 3.50* arasında olan öğrenciler *onur öğrencisi*, *3.51- 4.00* arasında olan öğrenciler ise *yüksek onur* öğrencisi kabul edilir. Ancak, öğrenciler öğrenimleri süresince herhangi bir yarıyılda “uyarma” dışında herhangi bir disiplin cezası almaları halinde bu kapsam dışında tutulur. Akademik izin dışında ek süre kullanan öğrenciler onur/yüksek onur öğrencisi olamaz. Onur ve yüksek onur öğrencileri her yarıyıl sonunda ilgili dekanlıkça/müdürlükçe ilanedilir ve kendilerine başarı belgeleri teslim edilir\"\n",
    "    source.bot.send_message(chat_id=update.effective_chat.id, text=message, parse_mode=telegram.ParseMode.MARKDOWN)\n",
    "def kayit_dondurma(update,source):\n",
    "    message = \"Öğrencinin akademik izin talebi, bir dilekçe ve mazeretini içeren belgeleriyle birlikte, ilgili akademik birime yapılır. Akademik izin talepleri, haklı ve geçerli nedenler çerçevesinde ilgili kurullar tarafından değerlendirilir ve alınan karar, Öğrenci İşleri Daire Başkanlığına ve ilgili öğrenciye yazılı olarak bildirilir. Akademik izin isteklerinin yarıyıl başında ders seçme ve kayıt yenileme haftasından başlamak üzere ilk iki hafta içinde yapılması gerekmektedir. *Ani hastalık ve beklenmedik haller dışında bu süreler bittikten sonra yapılacak başvurular işleme konulmaz.* Önlisans öğrencileri için en fazla iki yarıyıl, lisans öğrencileri için en fazla *4 yarıyıl* olmak üzere akademik izin verilebilir. Akademik izinli olan öğrenciler, derslere devam edemez ve sınavlara giremez. Akademik izinli oldukları süreler öğretim süresinden sayılmaz.\"\n",
    "    source.bot.send_message(chat_id=update.effective_chat.id, text=message, parse_mode=telegram.ParseMode.MARKDOWN)\n",
    "def obs(update,source):\n",
    "    message = \"https://ogr.kocaeli.edu.tr/koubs/ogrenci/index.cfm web adresinden öğrenci numaranız kullanıcı şifreniz ile bilgilerinize erişebilir ve ÖBS’yi kullanabilirsiniz. \\n\"\"Öğrenci Bilgi Sistemi\"\" ara yüzünü kullanarak not durumlarınızı, harç durumunuzu, sınav tarihlerinizi, genel ya da şahsi duyurularınızı takip edebilir, dersini almakta olduğunuz öğretim elemanları ve danışmanınızla iletişim kurabilirsiniz. \"\n",
    "    source.bot.send_message(chat_id=update.effective_chat.id, text=message, parse_mode=telegram.ParseMode.MARKDOWN)                          \n",
    "def diploma(update,source):\n",
    "    message = \"Mezun öğrencilerimiz diplomalarının hazır olup olmadığını Öğrenci İşleri Dairesi Başkanlığı sayfasında **diploma sorgulama** menüsünden ya da http://ogr.kocaeli.edu.tr/KOUBS/Genel/Diplomasorgu/diplomanosorgu.cfm web adresinden öğrenebilirler.\"\n",
    "    source.bot.send_message(chat_id=update.effective_chat.id, text=message, parse_mode=telegram.ParseMode.MARKDOWN)\n",
    "def gecici_mezuniyet_belgesi(update,source):\n",
    "    message = \"Mezuniyet işlemleri tamamlanmış öğrenciler bağlı bulunduğu öğrenci işleri bürosundan veya e-devlet üzerinden Geçici Mezuniyet Belgesi alabilirler. Diploma hazırlanıncaya kadar Geçici Mezuniyet Belgesi diploma yerine kullanılabilmektedir.\"\n",
    "    source.bot.send_message(chat_id=update.effective_chat.id, text=message, parse_mode=telegram.ParseMode.MARKDOWN)\n",
    "def diploma2(update,source):\n",
    "    message = \"Diplomanızı bir başkasının teslim almasını istiyorsanız **(aile bireyleri dahil)** noterden alınmış vekâletname (aslı) gereklidir. **Vekaletname haricinde diplomanız üçüncü şahıslara teslim edilmez.**\"\n",
    "    source.bot.send_message(chat_id=update.effective_chat.id, text=message, parse_mode=telegram.ParseMode.MARKDOWN)                        \n",
    "def danismanim_kim(update,source):\n",
    "    message = \"Akademik danışman: Bir öğrenciye, Üniversiteye kayıt oluşundan itibaren Üniversiteyle ilişiği kesilene kadar geçen süre içinde, kayıt, eğitim-öğretim çalışmaları ve öğrencinin Üniversitedeki yaşamı ile ilgili problemlerinde yardımcı olmak ve yönlendirmek üzere, ilgili bölüm/program başkanı tarafından görevlendirilen öğretim elemanı olarak tanımlanmaktadır.\"\n",
    "    source.bot.send_message(chat_id=update.effective_chat.id, text=message, parse_mode=telegram.ParseMode.MARKDOWN)\n",
    "def sinav_itiraz(update,source):\n",
    "    message = \"Öğrenci; sınav sonuçlarının duyurulmasından itibaren üç iş günü içinde bağlı olduğu fakülte dekanlığına, yüksekokul veya meslek yüksekokulu müdürlüğüne bir dilekçe ile başvurarak sınav kağıdının yeniden incelenmesini isteyebilir. Dekanlık veya müdürlük maddi bir hata yapılıp yapılmadığının belirlenmesi için sınav kâğıdını ilgili bölüm/program başkanı aracılığıyla dersin sorumlu öğretim elemanına inceletir ve sonucu öğrenciye tebliğ eder. Öğrencinin itirazının devamı halinde; ilgili fakülte, yüksekokul veya meslek yüksekokulu yönetim kurulu kararı ile sorumlu öğretim elemanının dahil olmadığı, ilgili alandaki öğretim elemanlarından oluşan en az üç kişilik bir komisyonda cevap anahtarıyla ve/veya diğer sınav kağıtları ve dokümanları ile karşılaştırmalı olarak yeniden esastan inceleme yapılır. Not değişiklikleri ilgili fakülte, yüksekokul veya meslek yüksekokulu yönetim kurulu kararı ile kesinleşir. Not değişikliği ile ilgili yönetim kurulu kararı Öğrenci İşleri Daire Başkanlığına bildirilir. Öğrenci Bilgi Sisteminde açıklanan başarı notları ile ilişkili herhangi bir maddi hatanın yapılmış olduğunun belirlenmesi halinde, ilgili öğretim elemanı ilgili bölüm/program başkanına başvurarak düzeltme talebinde bulunur. Bu talep, ilgili fakülte, yüksekokul veya meslek yüksekokulu bölüm/program başkanlığınca değerlendirilir. Eğer varsa not değişikliği veya düzeltmeler yönetim kurulunda görüşülüp karara bağlanır. Yönetim kurulu kararı Öğrenci İşleri Daire Başkanlığına bildirilir. Gerekli değişiklik Öğrenci İşleri Daire Başkanlığı tarafından yapılır.\"\n",
    "    source.bot.send_message(chat_id=update.effective_chat.id, text=message, parse_mode=telegram.ParseMode.MARKDOWN)\n",
    "def yatay_gecis(update,source):\n",
    "    message = \"Kocaeli Üniversitesi içinden veya dışından yatay geçişler \"\"Yükseköğretim Kurumlarında Önlisans ve Lisans Düzeyindeki Programlar Arasında Geçiş, Çift Anadal, Yan Dal ile Kurumlar Arası Kredi Transferi Yapılması Esaslarına İlişkin Yönetmelik\"\" hükümlerine göre yürütülür.\"\n",
    "    source.bot.send_message(chat_id=update.effective_chat.id, text=message, parse_mode=telegram.ParseMode.MARKDOWN)\n",
    "def cift_anadal(update,source):\n",
    "    message = \"Kocaeli Üniversitesinde okuyan öğrenciler, lisans/ önlisans öğrenimleri boyunca başka bir lisans/önlisans öğrenimini, aynı zamanda takip edebilir. Bununla ilgili hususlar, “Yükseköğretim Kurumlarında Önlisans ve Lisans Düzeyindeki Programlar Arasında Geçiş, Çift Anadal, Yan Dal ile Kurumlar Arası Kredi Transferi Yapılması Esaslarına İlişkin Yönetmelik” ve Üniversitemizin \"\"Çift Anadal Programı(ÇAP) Yönetmeliği\"\" ile belirlenir.\"\n",
    "    source.bot.send_message(chat_id=update.effective_chat.id, text=message, parse_mode=telegram.ParseMode.MARKDOWN)\n",
    "def staj(update,source):\n",
    "    message = \"Bağlı bulunduğunuz akademik birime müracaat edebilirsiniz.\"\n",
    "    source.bot.send_message(chat_id=update.effective_chat.id, text=message, parse_mode=telegram.ParseMode.MARKDOWN)\n",
    "def disiplin(update,source):\n",
    "    message = \"www.yok.gov.tr web sitesinde “Yükseköğretim Kurumları Öğrenci Disiplin Yönetmeliği”ni okuyarak gerekli bilgiyi edinebilirsiniz.\"\n",
    "    source.bot.send_message(chat_id=update.effective_chat.id, text=message, parse_mode=telegram.ParseMode.MARKDOWN)\n",
    "def hatali_not(update,source):\n",
    "    message = \"Bağlı bulunduğunuz akademik birime müracaat edebilirsiniz.\"\n",
    "    source.bot.send_message(chat_id=update.effective_chat.id, text=message, parse_mode=telegram.ParseMode.MARKDOWN)\n",
    "def belge(update,source):\n",
    "    message = \"Bağlı bulunduğunuz öğrenci işleri bürosundan temin edebilirsiniz. \\nÖğrenci belgelerinizi e-devlet üzerinden de temin edebilirsiniz\"\n",
    "    source.bot.send_message(chat_id=update.effective_chat.id, text=message, parse_mode=telegram.ParseMode.MARKDOWN)\n",
    "def burs(update,source):\n",
    "    message = \"Yüksek Öğrenim Kredi Ve Yurtlar Kurumu Genel Müdürlüğüne ait (www.kyk.gov.tr) web sitesinden; \\n- Yüksek Öğrenim Öğrencilerine Burs Kredi Verilmesine İlişkin Kanunu’na, \\n- Yüksek Öğrenim Kredi ve Yurtlar Kurumu Öğrenim Kredisi Yönetmeliği’ne, \\n- Yüksek Öğrenim Kredi ve Yurtlar Kurumu Burs-Kredi Yönetmeliği’ne bakınız.- \\nwww.kyk.gov.tr web sitesindeki duyuruları dikkatle takip ediniz.\"\n",
    "    source.bot.send_message(chat_id=update.effective_chat.id, text=message, parse_mode=telegram.ParseMode.MARKDOWN)"
   ]
  },
  {
   "cell_type": "markdown",
   "id": "e06d6d1b",
   "metadata": {},
   "source": [
    "## Öğrenci Kulüpleri Hakkında Bilgi"
   ]
  },
  {
   "cell_type": "code",
   "execution_count": 9,
   "id": "6e32df91",
   "metadata": {},
   "outputs": [],
   "source": [
    "def ogrenci_klupleri(update, context):\n",
    "    message = \"Merhaba! KOÜ'deki öğrenci kulüpleri hakkında bilgi almak isterseniz, aşağıdaki linke tıklayabilirsiniz. Bu site, KOÜ'deki çeşitli kulüplerin tanıtımlarını ve faaliyetlerini içerir. Kulüpler hakkında daha fazla bilgi edinmek ve ilgi alanınıza uygun olanlara katılmak için [Öğrenci Klupleri](http://okuk.kocaeli.edu.tr/kulupler.php) adresini ziyaret edebilirsiniz.\"\n",
    "\n",
    "    # Markdown formatında bir mesaj oluşturuluyor\n",
    "    context.bot.send_message(chat_id=update.effective_chat.id, text=message, parse_mode=telegram.ParseMode.MARKDOWN)\n"
   ]
  },
  {
   "cell_type": "markdown",
   "id": "e710fb8b",
   "metadata": {},
   "source": [
    "## Kabaoğlu İçin Hava Durumu\n",
    "Bu kod, Telegram botu üzerinden Kabaoğlu için hava durumu bilgilerini almak ve kullanıcıyla paylaşmak için kullanılır."
   ]
  },
  {
   "cell_type": "code",
   "execution_count": 10,
   "id": "4d6d64a1",
   "metadata": {},
   "outputs": [],
   "source": [
    "\n",
    "def umuttepe_hava_durumu(update, source):\n",
    "    api_key = 'api' #hava durumu API anahtarı ve şehir adı tanımlama\n",
    "    city = 'Kabaoğlu'\n",
    "\n",
    "    weather_url = f'http://api.openweathermap.org/data/2.5/weather?q={city}&appid={api_key}&lang=tr'\n",
    "    \n",
    "    response = requests.get(weather_url) ##Hava durumu API'si, API anahtarı ve şehir adı ile birlikte oluşturulan URL'ye GET isteği gönderilir\n",
    "\n",
    "    weather_data = response.json() #isteğin cevabı JSON formatında bir veri yapısına dönüştürülüyor\n",
    "    \n",
    "    temperature = round(weather_data['main']['temp'] - 273.15, 1) if 'main' in weather_data else None\n",
    "    description = weather_data['weather'][0]['description'] if 'weather' in weather_data else None\n",
    "    wind_speed = weather_data['wind']['speed'] if 'wind' in weather_data else None\n",
    "    humidity = weather_data['main']['humidity'] if 'main' in weather_data else None\n",
    "    rain_probability = weather_data['rain']['1h'] if 'rain' in weather_data and '1h' in weather_data['rain'] else None\n",
    "    snow_probability = weather_data['snow']['1h'] if 'snow' in weather_data and '1h' in weather_data['snow'] else None\n",
    "    \n",
    "    #bir mesaj oluşturuluyor ve mesajda hava durumu bilgileri yer alıyor\n",
    "    message = f'Şehir: {city}\\nSıcaklık: {temperature}°C\\nDurum: {description.title()}\\nRüzgar Hızı: {wind_speed} m/s\\nNem: {humidity}%'\n",
    "    #eğer yağmur veya kar ihtimali verileri mevcutsa, mesaja bu bilgiler de ekleniyor\n",
    "    if rain_probability:\n",
    "        message += f'\\nYağmur İhtimali: {rain_probability}%'\n",
    "    if snow_probability:\n",
    "        message += f'\\nKar İhtimali: {snow_probability}%'\n",
    "    source.bot.send_message(chat_id=update.effective_chat.id, text=message, parse_mode=telegram.ParseMode.MARKDOWN)\n",
    "    #oluşturulan mesaj, Telegram botu tarafından kullanıcının sorduğu konuşma penceresine gönderiliyor\n"
   ]
  },
  {
   "cell_type": "markdown",
   "id": "11a17a7d",
   "metadata": {},
   "source": [
    "## Ders Notu Hesaplama İşlemi\n",
    "Bu kod, bir Telegram botunun vize ve final notlarına göre harf notu hesaplaması yapmasını sağlar."
   ]
  },
  {
   "cell_type": "code",
   "execution_count": 11,
   "id": "042a5ea9",
   "metadata": {},
   "outputs": [],
   "source": [
    "def ders_notu(update: Update, context: telegram.ext.CallbackContext) -> None:\n",
    "    \n",
    "    update.message.reply_text('Merhaba, bu bot vize ve final notlarına göre harf notu hesaplar. Devam etmek için /hesapla komutunu kullanın.')\n",
    "\n",
    "def hesapla(update: Update, context: telegram.ext.CallbackContext) -> None:\n",
    "    \n",
    "    try:\n",
    "        # Kullanıcıdan vize ve final notlarını al\n",
    "        vize_notu = float(update.message.text.split()[1])\n",
    "        final_notu = float(update.message.text.split()[2])\n",
    "        \n",
    "        # Notları hesapla\n",
    "        ortalama = (vize_notu * 0.4) + (final_notu * 0.6)\n",
    "        if ortalama >= 90:\n",
    "            harf_notu = \"AA Tebrikler! Geçtiniz.\"\n",
    "        elif ortalama >= 85:\n",
    "            harf_notu = \"BA Tebrikler! Geçtiniz.\"\n",
    "        elif ortalama >= 80:\n",
    "            harf_notu = \"BB Tebrikler! Geçtiniz.\"\n",
    "        elif ortalama >= 75:\n",
    "            harf_notu = \"CB Tebrikler! Geçtiniz.\"\n",
    "        elif ortalama >= 60:\n",
    "            harf_notu = \"CC Tebrikler! Geçtiniz.\"\n",
    "        elif ortalama >= 50:\n",
    "            harf_notu = \"DC Koşullu geçtiniz.\"\n",
    "        elif ortalama >= 40:\n",
    "            harf_notu = \"DD Kaldınız.\"\n",
    "        else:\n",
    "            harf_notu = \"FF Kaldınız.\"\n",
    "        \n",
    "        # Sonucu gönder\n",
    "        update.message.reply_text(f\"Vize notunuz: {vize_notu}\\nFinal notunuz: {final_notu}\\nOrtalamanız: {ortalama}\\nHarf notunuz: {harf_notu}\")\n",
    "    except (IndexError, ValueError):\n",
    "        update.message.reply_text(\"Geçersiz argümanlar. /hesapla komutunu kullanırken lütfen vize notunuzu ve final notunuzu girin. Örnek: /hesapla 80 90\")\n",
    "\n"
   ]
  },
  {
   "cell_type": "markdown",
   "id": "3dbdd9fd",
   "metadata": {},
   "source": [
    "## KOÜ Sitesinden İlk 3 Duyuruyu Çekme İşlemi\n",
    "Bu kod, Kocaeli Üniversitesi'nin duyuru sayfasından en son duyuruları çekerek bu duyuruları bir HTML mesajı olarak kullanıcılara gönderir. Mesajda duyuru başlıkları, içerikleri ve ilgili PDF linkleri yer alır."
   ]
  },
  {
   "cell_type": "code",
   "execution_count": 12,
   "id": "9df48771",
   "metadata": {},
   "outputs": [],
   "source": [
    "# Komut işleyicisi fonksiyonu\n",
    "def duyuru(update, context):\n",
    "    url = 'https://www.kocaeli.edu.tr/duyurular.php'\n",
    "    response = requests.get(url)\n",
    "    soup = BeautifulSoup(response.text, 'html.parser')\n",
    "    \n",
    "    # pdf dosyalarını bul ve linklerini al\n",
    "    pdf_links = soup.find_all('a', href=True, text='PDF')\n",
    "    \n",
    "\n",
    "    # sadece h4 etiketlerini bul\n",
    "    headings = soup.select('h4')\n",
    "    message = ''\n",
    "    for heading in headings[:3]:\n",
    "        message += f'<b>{heading.text}</b>\\n'\n",
    "        dl = heading.find_next('dl')\n",
    "        dts = dl.find_all('dt')\n",
    "        dds = dl.find_all('dd')\n",
    "        for dt, dd in zip(dts, dds):\n",
    "            message += dt.text + ': ' + dd.text.strip() + '\\n'\n",
    "        links = dl.find_all('a')\n",
    "        for link in pdf_links:\n",
    "            message += f\"{link.text}: <a href='{link['href']}' download='{link.text}.pdf'>Download</a>\\n\"\n",
    "\n",
    "        message += '---------------------------------------------------------------------------------------------\\n\\n'\n",
    "    context.bot.send_message(chat_id=update.effective_chat.id, text=message, parse_mode=telegram.ParseMode.HTML)\n"
   ]
  },
  {
   "cell_type": "markdown",
   "id": "2735bcdd",
   "metadata": {},
   "source": [
    "## Kocaeli'de Ne Yapılır?"
   ]
  },
  {
   "cell_type": "code",
   "execution_count": 13,
   "id": "6abcf0cc",
   "metadata": {},
   "outputs": [],
   "source": [
    "def kocaelide_ne_yapilir(update, context):\n",
    "    message = \"Kocaeli, Türkiye'nin Marmara Bölgesi'nde bulunan bir şehirdir. Kocaeli, tarihi ve doğal güzellikleriyle ziyaretçilere çeşitli aktiviteler sunar. İşte Kocaeli'de yapabileceğiniz bazı şeyler:\\n\\n\"\n",
    "    message += \" \\n-\"\"İzmit Körfezi'nde Yürüyüş:\"\" Kocaeli'nin güzel sahil şeridi boyunca yürüyüş yapabilir, deniz manzarasının keyfini çıkarabilirsiniz.\\n\"\n",
    "    message += \" \\n-\"\"Kartepe Kayak Merkezi:\"\" Kartepe, Kocaeli'nin doğal güzellikleri arasında yer alan bir kayak merkezidir. Kış aylarında kayak yapabilir veya doğa yürüyüşleri gerçekleştirebilirsiniz.\\n\"\n",
    "    message += \" \\n-\"\"Tarihi ve Kültürel Gezi:\"\" Kocaeli'de tarihi ve kültürel zenginliklere sahip yerleri ziyaret edebilirsiniz. Hereke İpek Fabrikası, Osman Hamdi Bey Müzesi ve Seka Park gibi yerler tarihi ve kültürel deneyimler sunar.\\n\"\n",
    "    message += \" \\n-\"\"Şehir Parkları:\"\" Kocaeli'de birçok şehir parkı bulunur. Bu parklarda piknik yapabilir, spor aktiviteleri yapabilir veya doğa ile iç içe vakit geçirebilirsiniz. Örneğin, Seka Park, İzmit Kent Ormanı ve Dilovası Kent Ormanı gibi parklar popüler seçeneklerdir.Seka Park'ta piknik yapabilir veya bisiklet sürüşü yapabilirsiniz.\\n\"\n",
    "    message += \"\\nDaha fazla bilgi için [Kocaeli'de Yapılacak Şeyler](https://blog.biletbayi.com/kocaelinde-yapilacak-seyler.html/) adresini ziyaret edebilirsiniz.\"\n",
    "\n",
    "    # Markdown formatında bir mesaj oluşturuluyor\n",
    "    context.bot.send_message(chat_id=update.effective_chat.id, text=message, parse_mode=telegram.ParseMode.MARKDOWN)\n"
   ]
  },
  {
   "cell_type": "markdown",
   "id": "f018a3d6",
   "metadata": {},
   "source": [
    "## Telegram Botu Oluşturmak İçin Temel Yapılandırma\n",
    "Bu kod parçası, Telegram botunuzun API anahtarını ve güncellemeleri almasını sağlayan bir işleyiciyi tanımlar. Bu şekilde, botunuz güncellemeleri alabilir ve belirli işlevleri çağırabilir."
   ]
  },
  {
   "cell_type": "code",
   "execution_count": 14,
   "id": "d2120a23",
   "metadata": {},
   "outputs": [],
   "source": [
    "update = telegram.ext.Updater(TOKEN, use_context=True) \n",
    "disp = update.dispatcher\n",
    "#  telegram.ext.Updater sınıfı ve update.dispatcher değişkeni, Telegram botunun\n",
    "# güncelleştirme almasını ve işlemciler aracılığıyla botunuzun güncelleme ile etkileşimde bulunmasını sağlar"
   ]
  },
  {
   "cell_type": "markdown",
   "id": "842162b1",
   "metadata": {},
   "source": [
    "## Telegram Botunda Komut İşleyicisi Ekleme\n",
    "Bu kod, Telegram botuna örneğin, \"/start\" komutunu işlemesi için bir işleyici ekler. Yani, kullanıcı \"/start\" komutunu bot ile paylaştığında, belirtilen start işlevi çağrılır ve gerekli yanıt gönderilir. /start genellikle bir botun başlatılması veya hoş geldin mesajı gibi temel komutlardan biridir."
   ]
  },
  {
   "cell_type": "code",
   "execution_count": 15,
   "id": "c341bb50",
   "metadata": {
    "scrolled": true
   },
   "outputs": [],
   "source": [
    "disp.add_handler(telegram.ext.CommandHandler(\"start\",start)) #Telegram botuna\"/start\" komutu geldiğinde belirli bir işlevi çağırmak için bir komut işleyici \n",
    "disp.add_handler(telegram.ext.CommandHandler(\"yeni_kayit\",yeni_kayit))\n",
    "disp.add_handler(telegram.ext.CommandHandler(\"ders_kayit\",ders_kayit))\n",
    "disp.add_handler(telegram.ext.CommandHandler(\"muafiyet\",muafiyet))\n",
    "disp.add_handler(telegram.ext.CommandHandler(\"harc_iade\",harc_iade))\n",
    "disp.add_handler(telegram.ext.CommandHandler(\"mezuniyet\",mezuniyet))\n",
    "disp.add_handler(telegram.ext.CommandHandler(\"tekders\",tekders))\n",
    "disp.add_handler(telegram.ext.CommandHandler(\"tecil\",tecil))\n",
    "disp.add_handler(telegram.ext.CommandHandler(\"kayit_sildirme\",kayit_sildirme))\n",
    "disp.add_handler(telegram.ext.CommandHandler(\"onur_yuksekonur\",onur_yuksekonur))\n",
    "disp.add_handler(telegram.ext.CommandHandler(\"kayit_dondurma\",kayit_dondurma))\n",
    "disp.add_handler(telegram.ext.CommandHandler(\"obs\",obs))\n",
    "disp.add_handler(telegram.ext.CommandHandler(\"diploma\",diploma))\n",
    "disp.add_handler(telegram.ext.CommandHandler(\"gecici_mezuniyet_belgesi\",gecici_mezuniyet_belgesi))\n",
    "disp.add_handler(telegram.ext.CommandHandler(\"diploma2\",diploma2))\n",
    "disp.add_handler(telegram.ext.CommandHandler(\"danismanim_kim\",danismanim_kim))\n",
    "disp.add_handler(telegram.ext.CommandHandler(\"sinav_itiraz\",sinav_itiraz))\n",
    "disp.add_handler(telegram.ext.CommandHandler(\"yatay_gecis\",yatay_gecis))\n",
    "disp.add_handler(telegram.ext.CommandHandler(\"cift_anadal\",cift_anadal))\n",
    "disp.add_handler(telegram.ext.CommandHandler(\"staj\",staj))\n",
    "disp.add_handler(telegram.ext.CommandHandler(\"disiplin\",disiplin))\n",
    "disp.add_handler(telegram.ext.CommandHandler(\"hatali_not\",hatali_not))\n",
    "disp.add_handler(telegram.ext.CommandHandler(\"belge\",belge))\n",
    "disp.add_handler(telegram.ext.CommandHandler(\"burs\",burs))\n",
    "disp.add_handler(telegram.ext.CommandHandler(\"umuttepe_hava_durumu\",umuttepe_hava_durumu))\n",
    "disp.add_handler(telegram.ext.CommandHandler(\"ders_notu\",ders_notu))\n",
    "disp.add_handler(telegram.ext.CommandHandler(\"hesapla\",hesapla))\n",
    "disp.add_handler(telegram.ext.CommandHandler(\"yardim\",yardim))\n",
    "disp.add_handler(telegram.ext.CommandHandler(\"duyuru\",duyuru))\n",
    "disp.add_handler(telegram.ext.CommandHandler(\"yurt_bilgileri\", yurt_bilgileri))\n",
    "disp.add_handler(telegram.ext.CommandHandler(\"otobus_bilgi\", otobus_bilgi))\n",
    "disp.add_handler(telegram.ext.CommandHandler(\"umuttepe_giden\", umuttepe_giden))\n",
    "disp.add_handler(telegram.ext.CommandHandler(\"umuttepe_otogar\", umuttepe_otogar))\n",
    "disp.add_handler(telegram.ext.CommandHandler(\"umuttepe_bayindirlik\", umuttepe_bayindirlik))\n",
    "disp.add_handler(telegram.ext.CommandHandler(\"umuttepe_dunban\", umuttepe_dunban))\n",
    "disp.add_handler(telegram.ext.CommandHandler(\"umuttepe_kentkonut\", umuttepe_kentkonut))\n",
    "disp.add_handler(telegram.ext.CommandHandler(\"merkeze_enhizli\", merkeze_enhizli))\n",
    "disp.add_handler(telegram.ext.CommandHandler(\"otogar_enhizli\", otogar_enhizli))\n",
    "disp.add_handler(telegram.ext.CommandHandler(\"otobus_seferbilgi\", otobus_seferbilgi))\n",
    "disp.add_handler(telegram.ext.CommandHandler(\"SSS\", SSS))\n",
    "disp.add_handler(telegram.ext.CommandHandler(\"yemekhane_bilgi\", yemekhane_bilgi))\n",
    "disp.add_handler(telegram.ext.CommandHandler(\"kocaelide_ne_yapilir\", kocaelide_ne_yapilir))\n",
    "disp.add_handler(telegram.ext.CommandHandler(\"ogrenci_numara\", ogrenci_numara))\n",
    "disp.add_handler(telegram.ext.CommandHandler(\"ogrenci_klupleri\", ogrenci_klupleri))\n",
    "\n"
   ]
  },
  {
   "cell_type": "markdown",
   "id": "6667596e",
   "metadata": {},
   "source": [
    "## Telegram Botunu Çalıştırma\n",
    "\n",
    "Bu kod, Telegram botunu çalıştırmak için gerekli olan işlemleri gerçekleştirir. **update.start_polling()** yöntemi, Telegram sunucusuna botunuzun güncellemeleri kontrol etmek için sürekli olarak istek göndermesini başlatır. Bu, botunuzun gelen mesajları alabilmesini sağlar. **update.idle()** yöntemi ise botunuzun çalışır durumda kalmasını sağlar ve sürekli olarak güncellemeleri kontrol eder."
   ]
  },
  {
   "cell_type": "code",
   "execution_count": null,
   "id": "73009607",
   "metadata": {},
   "outputs": [],
   "source": [
    "update.start_polling()\n",
    "update.idle()"
   ]
  }
 ],
 "metadata": {
  "kernelspec": {
   "display_name": "Python 3 (ipykernel)",
   "language": "python",
   "name": "python3"
  },
  "language_info": {
   "codemirror_mode": {
    "name": "ipython",
    "version": 3
   },
   "file_extension": ".py",
   "mimetype": "text/x-python",
   "name": "python",
   "nbconvert_exporter": "python",
   "pygments_lexer": "ipython3",
   "version": "3.9.13"
  }
 },
 "nbformat": 4,
 "nbformat_minor": 5
}
